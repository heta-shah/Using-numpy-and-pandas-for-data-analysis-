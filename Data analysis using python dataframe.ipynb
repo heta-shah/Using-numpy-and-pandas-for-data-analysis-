{
 "cells": [
  {
   "cell_type": "code",
   "execution_count": null,
   "metadata": {},
   "outputs": [],
   "source": [
    "# IMPORT NECESSARY LIBRARIES AND DATA\n",
    "import pandas as pd\n",
    "import numpy as np\n",
    "arr = np.arange(72).reshape(9, 8)\n",
    "data_url = 'https://raw.githubusercontent.com/plotly/datasets/master/mpg_2017.txt'\n",
    "mpg_df = pd.read_csv(data_url, sep='\\t')\n",
    "mpg_df.head()\n"
   ]
  },
  {
   "cell_type": "markdown",
   "metadata": {},
   "source": [
    "SECTION A\n",
    "\n",
    "1. Determine the shape, number of dimensions and type of elements in the numpy array arr\n",
    "2. Determine the median of all elements in arr\n",
    "3. Determine the position (not the value) of the maximum value element in arr\n",
    "4. Create an array of the same shape as arr but filled with zeros\n",
    "5. Create an array of the same shape as arr but filled with ones\n",
    "6. Create an array of the same shape as arr but where all elements are the square root values\n",
    "7. Create an array result of shape 9 by 9 resulting from multiplication of arr with transpose(arr). Hint: use np.dot"
   ]
  },
  {
   "cell_type": "code",
   "execution_count": null,
   "metadata": {},
   "outputs": [],
   "source": [
    "\n",
    "# 1. Determine the shape, number of dimensions and type of elements in the numpy array arr\n",
    "print(arr.shape)\n",
    "print(arr.ndim)\n",
    "print(arr.dtype)\n",
    "\n",
    "#2. Determine the median of all elements in arr\n",
    "print(np.median(arr))\n",
    "\n",
    "#3. Determine the position (not the value) of the maximum value element in arr\n",
    "print(arr.argmax())\n",
    "\n",
    "#4. Create an array of the same shape as arr but filled with zeros\n",
    "arr2=np.zeros((9, 8), dtype=int)\n",
    "print(arr2)\n",
    "\n",
    "#5. Create an array of the same shape as arr but filled with ones\n",
    "arr3=np.ones((9, 8), dtype=int)\n",
    "print(arr3)\n",
    "\n",
    "#6. Create an array of the same shape as arr but where all elements are the square root values\n",
    "arr4= np.sqrt(arr)\n",
    "print(arr4)\n",
    "\n",
    "#7. Create an array result of shape 9 by 9 resulting from multiplication of arr with transpose(arr). Hint: use np.dot\n",
    "arr5=np.dot(arr,np.transpose(arr))\n",
    "print(arr5)\n"
   ]
  },
  {
   "cell_type": "markdown",
   "metadata": {},
   "source": [
    "SECTION B\n",
    "\n",
    "The dataframe `mpg_df` loads the dataset that contains information on various car makes and models over a number years along with information on their engine specifications, including their MPG (miles-per-gallon) rating for both `cty` (city driving) and `hwy` (highway driving)\n",
    "The dataset has already been loaded for you in the first code cell above.\n",
    " 1. Print the number of rows of the dataframe (ideally, you should format the print to put the thousands comma separator--as in `23,400` instead of `23400`\n",
    " 2. Print the names of all the columns of the dataframe\n",
    " 3. Print the 20th row of the dataframe\n",
    " 4. Which is the most fuel efficient car in the `compact` class in the whole dataset?\n",
    " 5. Which is the most fuel efficient 6 cylinder car make/model made after 2003?\n",
    " 6. Which is Subaru's least fuel efficient model in the whole dataset?\n",
    " 7. Which is the worst fuel efficient model/make in the `suv` class?\n"
   ]
  },
  {
   "cell_type": "code",
   "execution_count": null,
   "metadata": {},
   "outputs": [],
   "source": [
    "#1. Print the number of rows of the dataframe (ideally, you should format the print to put the thousands comma separator--as in `23,400` instead of `23400`\n",
    "rows = len(mpg_df.index)\n",
    "print(f\"{rows:,d}\")\n",
    "\n",
    "#2. Print the names of all the columns of the dataframe\n",
    "print(list(mpg_df.columns))\n",
    "\n",
    "#3. Print the 20th row of the dataframe\n",
    "print(mpg_df.iloc[[19]])\n",
    "\n",
    "#4. Which is the most fuel efficient car in the `compact` class in the whole dataset?\n",
    "print(' Fuel Efficiency for City in Compact class ' , mpg_df[['cty','manufacturer','model']].loc[mpg_df['class'] == 'compact'].max())\n",
    "print(' Fuel Efficiency for Highway in Compact class ' , mpg_df[['hwy','manufacturer','model']].loc[mpg_df['class'] == 'compact'].max())\n",
    "\n",
    "#5. Which is the most fuel efficient 6 cylinder car make/model made after 2003?\n",
    "print('most fuel efficient 6 cylinder car make/model made after 2003: ',mpg_df[['cty','manufacturer','model']].loc[(mpg_df['cyl'] == 6)&(mpg_df['year'] > 2003)].max())\n",
    "print('most fuel efficient 6 cylinder car make/model made after 2003: ',mpg_df[['hwy','manufacturer','model']].loc[(mpg_df['cyl'] == 6)&(mpg_df['year'] > 2003)].max())\n",
    "\n",
    "\n",
    "#6. Which is Subaru's least fuel efficient model in the whole dataset?\n",
    "print('Subaru least fuel Efficiency for City',mpg_df[['cty','model']].loc[mpg_df['manufacturer'] == 'subaru'].min())\n",
    "print('Subaru least fuel Efficiency for Highway',mpg_df[['hwy','model']].loc[mpg_df['manufacturer'] == 'subaru'].min())\n",
    "\n",
    "#7. Which is the worst fuel efficient model/make in the `suv` class?\n",
    "print(' Worst fuel Efficiency for City ' , mpg_df[['cty','manufacturer','model']].loc[mpg_df['class'] == 'suv'].min())\n",
    "print(' Worst fuel Efficiency for Highway' , mpg_df[['hwy','manufacturer','model']].loc[mpg_df['class'] == 'suv'].min())\n"
   ]
  }
 ],
 "metadata": {
  "kernelspec": {
   "display_name": "Python 3",
   "language": "python",
   "name": "python3"
  },
  "language_info": {
   "codemirror_mode": {
    "name": "ipython",
    "version": 3
   },
   "file_extension": ".py",
   "mimetype": "text/x-python",
   "name": "python",
   "nbconvert_exporter": "python",
   "pygments_lexer": "ipython3",
   "version": "3.6.5"
  }
 },
 "nbformat": 4,
 "nbformat_minor": 2
}
